{
 "cells": [
  {
   "cell_type": "markdown",
   "metadata": {
    "application/vnd.databricks.v1+cell": {
     "cellMetadata": {},
     "inputWidgets": {},
     "nuid": "be69b3b7-aeae-4c10-94f8-9001067af14e",
     "showTitle": false,
     "tableResultSettingsMap": {},
     "title": ""
    }
   },
   "source": [
    "## 0 Problem Statement\n",
    "\n",
    "Using the much simplified process below, raw milk is processed through Evaporators to remove water.\n",
    "\n",
    "There are three Evaporators, A, B, and C.\n",
    "\n",
    "There are two modes of operation for an evaporator:\n",
    "\n",
    "- On-product (processing milk) - State Value 1\n",
    "- CIP (clean in place) - State Value 0\n",
    "\n",
    "There are always 2 evaporators On-product and one on ClP.\n",
    "\n",
    "The concept of a \"production run\" is a continuous period of time when the Evaporator is On-product.\n",
    "\n",
    "Summary statistics need to be calculated for each Production run.\n",
    "\n",
    "A data pipeline runs at 7 am every day and needs to incrementally process raw data to generate the summary statistics that are kept for multiple years.\n",
    "\n",
    "The raw data from which the summary statistics are calculated are from sensors in the process that log data every 30 seconds."
   ]
  },
  {
   "cell_type": "markdown",
   "metadata": {
    "application/vnd.databricks.v1+cell": {
     "cellMetadata": {},
     "inputWidgets": {},
     "nuid": "4acfe012-c58e-4c55-b165-0e3b6de5e1bf",
     "showTitle": false,
     "tableResultSettingsMap": {},
     "title": ""
    }
   },
   "source": [
    "![](img/process.png)"
   ]
  },
  {
   "cell_type": "markdown",
   "metadata": {
    "application/vnd.databricks.v1+cell": {
     "cellMetadata": {},
     "inputWidgets": {},
     "nuid": "77562bdc-e031-42ec-a33e-a9b9e76ec5ac",
     "showTitle": false,
     "tableResultSettingsMap": {},
     "title": ""
    }
   },
   "source": [
    "When you query data from the data source the data structure will be of the format as below.\n",
    "\n",
    "  Remember:\n",
    "\n",
    "- On-product (processing milk) - State Value 1\n",
    "- CIP (clean in place)-State Value 0"
   ]
  },
  {
   "cell_type": "markdown",
   "metadata": {
    "application/vnd.databricks.v1+cell": {
     "cellMetadata": {},
     "inputWidgets": {},
     "nuid": "9659f683-5b0d-4a0c-815d-cfe9cacd2dd6",
     "showTitle": false,
     "tableResultSettingsMap": {},
     "title": ""
    }
   },
   "source": [
    "| Date_time      | EvapA_Var1 | EvapA_Var2 | EvapA_State | EvapB_Var1 | EvapB_Var2 | EvapB_State | EvapC_Var1 | EvapC_Var2 | EvapC_State\n",
    "| ----------- | ----------- | --| --|--|--|--|--|--|--|\n",
    "| 2025-01-01 09:00:00      | 1300       | 85 | 1 | 1000| 60 | 0 |1305 | 86 |1 |\n",
    "| 2025-01-01 09:00:30   | 1302        | 85.6 | 1 |999 | 59.8 | 0 | 1302 | 85.9 | 1 |\n",
    "| 2025-01-01 09:01:00   | 1299        | 85.3 | 1 | 1001 | 60.1 | 0 | 1303 | 86.2 | 1 |\n",
    "| 2025-01-01 09:01:30   | 1000        | 60 | 0 | 1300 | 85 | 1 | 1300 | 86.1 | 1 |\n"
   ]
  },
  {
   "cell_type": "markdown",
   "metadata": {
    "application/vnd.databricks.v1+cell": {
     "cellMetadata": {},
     "inputWidgets": {},
     "nuid": "d0e672e5-9d98-4137-b932-a2497ae51027",
     "showTitle": false,
     "tableResultSettingsMap": {},
     "title": ""
    }
   },
   "source": [
    "Note:\n",
    "\n",
    "Only 2 variables and a state fag are shown for each evaporator. In realty, there could be more variable columns for each evaporator.\n",
    "\n",
    "Also, the variables (Var x ) are the same across evaporator. E.g Evap1_Var1, Evap2_Var1, Evap3_ Var1 are all the same variable, like \"fowrate\" for each evaporator.\n",
    "\n"
   ]
  },
  {
   "cell_type": "markdown",
   "metadata": {
    "application/vnd.databricks.v1+cell": {
     "cellMetadata": {},
     "inputWidgets": {},
     "nuid": "8af4338c-0bf0-4715-8b6e-f541118eaa3e",
     "showTitle": false,
     "tableResultSettingsMap": {},
     "title": ""
    }
   },
   "source": [
    "Task:\n",
    "\n",
    "1) Please describe what data structure you would transform the source data format to, in order to facilitate data processing.\n",
    "\n",
    "2) Please describe how you would create summary statistics based on Production runs.\n",
    "\n",
    "3) Please describe how you would then make this run on a daily incremental basis."
   ]
  }
 ],
 "metadata": {
  "application/vnd.databricks.v1+notebook": {
   "computePreferences": null,
   "dashboards": [],
   "environmentMetadata": {
    "base_environment": "",
    "client": "2"
   },
   "language": "r",
   "notebookMetadata": {
    "pythonIndentUnit": 4
   },
   "notebookName": "0 Problem Statement",
   "widgets": {
    "Date": {
     "currentValue": "2025-02-02",
     "nuid": "60ea0fd1-4ced-4707-8c35-e777494819b6",
     "typedWidgetInfo": {
      "autoCreated": false,
      "defaultValue": "2025-02-01",
      "label": "Date of generation",
      "name": "Date",
      "options": {
       "widgetDisplayType": "Text",
       "validationRegex": null
      },
      "parameterDataType": "String"
     },
     "widgetInfo": {
      "widgetType": "text",
      "defaultValue": "2025-02-01",
      "label": "Date of generation",
      "name": "Date",
      "options": {
       "widgetType": "text",
       "autoCreated": null,
       "validationRegex": null
      }
     }
    }
   }
  },
  "language_info": {
   "name": "r"
  }
 },
 "nbformat": 4,
 "nbformat_minor": 0
}
