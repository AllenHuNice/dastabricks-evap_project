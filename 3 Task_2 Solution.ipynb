{
 "cells": [
  {
   "cell_type": "markdown",
   "metadata": {
    "application/vnd.databricks.v1+cell": {
     "cellMetadata": {
      "byteLimit": 2048000,
      "rowLimit": 10000
     },
     "inputWidgets": {},
     "nuid": "bcd57997-baa0-4e58-8596-80b4b44790f4",
     "showTitle": false,
     "tableResultSettingsMap": {},
     "title": ""
    }
   },
   "source": [
    "### Step 1. Load Data"
   ]
  },
  {
   "cell_type": "code",
   "execution_count": 0,
   "metadata": {
    "application/vnd.databricks.v1+cell": {
     "cellMetadata": {
      "byteLimit": 2048000,
      "rowLimit": 10000
     },
     "inputWidgets": {},
     "nuid": "43750500-db95-41a9-bae4-2b2b06be01ec",
     "showTitle": false,
     "tableResultSettingsMap": {},
     "title": ""
    }
   },
   "outputs": [],
   "source": [
    "library(sparklyr)\n",
    "library(dplyr)\n",
    "library(DBI)"
   ]
  },
  {
   "cell_type": "code",
   "execution_count": 0,
   "metadata": {
    "application/vnd.databricks.v1+cell": {
     "cellMetadata": {
      "byteLimit": 2048000,
      "rowLimit": 10000
     },
     "inputWidgets": {},
     "nuid": "a37938a5-312a-453a-bf34-8feb39a0e726",
     "showTitle": false,
     "tableResultSettingsMap": {},
     "title": ""
    }
   },
   "outputs": [],
   "source": [
    "%sql\n",
    "\n",
    "-- create Gold layer\n",
    "\n",
    "CREATE SCHEMA IF NOT EXISTS dev.gold;"
   ]
  },
  {
   "cell_type": "code",
   "execution_count": 0,
   "metadata": {
    "application/vnd.databricks.v1+cell": {
     "cellMetadata": {
      "byteLimit": 2048000,
      "rowLimit": 10000
     },
     "inputWidgets": {},
     "nuid": "19744ab5-b287-4a13-968f-2f17528ee4c2",
     "showTitle": false,
     "tableResultSettingsMap": {},
     "title": ""
    }
   },
   "outputs": [],
   "source": [
    "sc <- spark_connect(method = \"databricks\")  \n"
   ]
  },
  {
   "cell_type": "code",
   "execution_count": 0,
   "metadata": {
    "application/vnd.databricks.v1+cell": {
     "cellMetadata": {
      "byteLimit": 2048000,
      "rowLimit": 10000
     },
     "inputWidgets": {},
     "nuid": "9804d362-ad3e-4e53-aff2-f89b826e090c",
     "showTitle": false,
     "tableResultSettingsMap": {},
     "title": ""
    }
   },
   "outputs": [],
   "source": [
    "df_wide <- tbl(sc, \"dev.silver.evap_daily_temp\")"
   ]
  },
  {
   "cell_type": "code",
   "execution_count": 0,
   "metadata": {
    "application/vnd.databricks.v1+cell": {
     "cellMetadata": {
      "byteLimit": 2048000,
      "rowLimit": 10000
     },
     "inputWidgets": {},
     "nuid": "90b53586-26ca-4719-a964-9c014cff1fbb",
     "showTitle": false,
     "tableResultSettingsMap": {},
     "title": ""
    }
   },
   "outputs": [],
   "source": [
    "head(df_wide)"
   ]
  },
  {
   "cell_type": "markdown",
   "metadata": {
    "application/vnd.databricks.v1+cell": {
     "cellMetadata": {
      "byteLimit": 2048000,
      "rowLimit": 10000
     },
     "inputWidgets": {},
     "nuid": "b0603077-74b4-42d3-8fc2-932a8a584b95",
     "showTitle": false,
     "tableResultSettingsMap": {},
     "title": ""
    }
   },
   "source": [
    "### Step 2. Statistic Data"
   ]
  },
  {
   "cell_type": "code",
   "execution_count": 0,
   "metadata": {
    "application/vnd.databricks.v1+cell": {
     "cellMetadata": {
      "byteLimit": 2048000,
      "rowLimit": 10000
     },
     "inputWidgets": {},
     "nuid": "961d80dd-6d33-4e82-9ad0-7ca324e026e7",
     "showTitle": false,
     "tableResultSettingsMap": {},
     "title": ""
    }
   },
   "outputs": [],
   "source": [
    "# Calculate the mean value Max, Min for State=1 and State=0. This is done at a later stage according to business requirements.\n",
    "# Evap_Var1\n",
    "avg_EvapA_Var1_State1 <- mean(pull(df_wide, EvapA_Var1_State1), na.rm = TRUE)\n",
    "avg_EvapA_Var1_State0 <- mean(pull(df_wide, EvapA_Var1_State0), na.rm = TRUE)\n",
    "max_EvapA_Var1_State1 <- max(pull(df_wide, EvapA_Var1_State1), na.rm = TRUE)\n",
    "max_EvapA_Var1_State0 <- max(pull(df_wide, EvapA_Var1_State0), na.rm = TRUE)\n",
    "min_EvapA_Var1_State1 <- min(pull(df_wide, EvapA_Var1_State1), na.rm = TRUE)\n",
    "min_EvapA_Var1_State0 <- min(pull(df_wide, EvapA_Var1_State0), na.rm = TRUE)\n",
    "\n",
    "avg_EvapB_Var1_State1 <- mean(pull(df_wide, EvapB_Var1_State1), na.rm = TRUE)\n",
    "avg_EvapB_Var1_State0 <- mean(pull(df_wide, EvapB_Var1_State0), na.rm = TRUE)\n",
    "max_EvapB_Var1_State1 <- max(pull(df_wide, EvapB_Var1_State1), na.rm = TRUE)\n",
    "max_EvapB_Var1_State0 <- max(pull(df_wide, EvapB_Var1_State0), na.rm = TRUE)\n",
    "min_EvapB_Var1_State1 <- min(pull(df_wide, EvapB_Var1_State1), na.rm = TRUE)\n",
    "min_EvapB_Var1_State0 <- min(pull(df_wide, EvapB_Var1_State0), na.rm = TRUE)\n",
    "\n",
    "avg_EvapC_Var1_State1 <- mean(pull(df_wide, EvapC_Var1_State1), na.rm = TRUE)\n",
    "avg_EvapC_Var1_State0 <- mean(pull(df_wide, EvapC_Var1_State0), na.rm = TRUE)\n",
    "max_EvapC_Var1_State1 <- max(pull(df_wide, EvapC_Var1_State1), na.rm = TRUE)\n",
    "max_EvapC_Var1_State0 <- max(pull(df_wide, EvapC_Var1_State0), na.rm = TRUE)\n",
    "min_EvapC_Var1_State1 <- min(pull(df_wide, EvapC_Var1_State1), na.rm = TRUE)\n",
    "min_EvapC_Var1_State0 <- min(pull(df_wide, EvapC_Var1_State0), na.rm = TRUE)\n",
    "\n",
    "# Evap_Var2\n",
    "avg_EvapA_Var2_State1 <- mean(pull(df_wide, EvapA_Var2_State1), na.rm = TRUE)\n",
    "avg_EvapA_Var2_State0 <- mean(pull(df_wide, EvapA_Var2_State0), na.rm = TRUE)\n",
    "max_EvapA_Var2_State1 <- max(pull(df_wide, EvapA_Var2_State1), na.rm = TRUE)\n",
    "max_EvapA_Var2_State0 <- max(pull(df_wide, EvapA_Var2_State0), na.rm = TRUE)\n",
    "min_EvapA_Var2_State1 <- min(pull(df_wide, EvapA_Var2_State1), na.rm = TRUE)\n",
    "min_EvapA_Var2_State0 <- min(pull(df_wide, EvapA_Var2_State0), na.rm = TRUE)\n",
    "\n",
    "avg_EvapB_Var2_State1 <- mean(pull(df_wide, EvapB_Var2_State1), na.rm = TRUE)\n",
    "avg_EvapB_Var2_State0 <- mean(pull(df_wide, EvapB_Var2_State0), na.rm = TRUE)\n",
    "max_EvapB_Var2_State1 <- max(pull(df_wide, EvapB_Var2_State1), na.rm = TRUE)\n",
    "max_EvapB_Var2_State0 <- max(pull(df_wide, EvapB_Var2_State0), na.rm = TRUE)\n",
    "min_EvapB_Var2_State1 <- min(pull(df_wide, EvapB_Var2_State1), na.rm = TRUE)\n",
    "min_EvapB_Var2_State0 <- min(pull(df_wide, EvapB_Var2_State0), na.rm = TRUE)\n",
    "\n",
    "avg_EvapC_Var2_State1 <- mean(pull(df_wide, EvapC_Var2_State1), na.rm = TRUE)\n",
    "avg_EvapC_Var2_State0 <- mean(pull(df_wide, EvapC_Var2_State0), na.rm = TRUE)\n",
    "max_EvapC_Var2_State1 <- max(pull(df_wide, EvapC_Var2_State1), na.rm = TRUE)\n",
    "max_EvapC_Var2_State0 <- max(pull(df_wide, EvapC_Var2_State0), na.rm = TRUE)\n",
    "min_EvapC_Var2_State1 <- min(pull(df_wide, EvapC_Var2_State1), na.rm = TRUE)\n",
    "min_EvapC_Var2_State0 <- min(pull(df_wide, EvapC_Var2_State0), na.rm = TRUE)\n",
    "\n",
    "Date_time_start= min(pull(df_wide, Date_time))\n",
    "Date_time_end= max(pull(df_wide, Date_time))\n",
    "\n",
    "# Print calculation results\n",
    "cat(\"EvapA_Var1 - State 1 Mean:\", avg_EvapA_Var1_State1, \"\\n\")\n",
    "cat(\"EvapA_Var1 - State 0 Mean:\", avg_EvapA_Var1_State0, \"\\n\")\n",
    "cat(\"EvapA_Var1 - State 1 Max:\", max_EvapA_Var1_State1, \"\\n\")\n",
    "cat(\"EvapA_Var1 - State 0 Max:\", max_EvapA_Var1_State0, \"\\n\")\n",
    "cat(\"EvapA_Var1 - State 1 Min:\", min_EvapA_Var1_State1, \"\\n\")\n",
    "cat(\"EvapA_Var1 - State 0 Min:\", min_EvapA_Var1_State0, \"\\n\")\n",
    "\n",
    "cat(\"EvapB_Var1 - State 1 Mean:\", avg_EvapB_Var1_State1, \"\\n\")\n",
    "cat(\"EvapB_Var1 - State 0 Mean:\", avg_EvapB_Var1_State0, \"\\n\")\n",
    "cat(\"EvapB_Var1 - State 1 Max:\", max_EvapB_Var1_State1, \"\\n\")\n",
    "cat(\"EvapB_Var1 - State 0 Max:\", max_EvapB_Var1_State0, \"\\n\")\n",
    "cat(\"EvapB_Var1 - State 1 Min:\", min_EvapB_Var1_State1, \"\\n\")\n",
    "cat(\"EvapB_Var1 - State 0 Min:\", min_EvapB_Var1_State0, \"\\n\")\n",
    "\n",
    "cat(\"EvapC_Var1 - State 1 Mean:\", avg_EvapC_Var1_State1, \"\\n\")\n",
    "cat(\"EvapC_Var1 - State 0 Mean:\", avg_EvapC_Var1_State0, \"\\n\")\n",
    "cat(\"EvapC_Var1 - State 1 Max:\", max_EvapC_Var1_State1, \"\\n\")\n",
    "cat(\"EvapC_Var1 - State 0 Max:\", max_EvapC_Var1_State0, \"\\n\")\n",
    "cat(\"EvapC_Var1 - State 1 Min:\", min_EvapC_Var1_State1, \"\\n\")\n",
    "cat(\"EvapC_Var1 - State 0 Min:\", min_EvapC_Var1_State0, \"\\n\")\n",
    "\n",
    "cat(\"EvapA_Var2 - State 1 Mean:\", avg_EvapA_Var2_State1, \"\\n\")\n",
    "cat(\"EvapA_Var2 - State 0 Mean:\", avg_EvapA_Var2_State0, \"\\n\")\n",
    "cat(\"EvapA_Var2 - State 1 Max:\", max_EvapA_Var2_State1, \"\\n\")\n",
    "cat(\"EvapA_Var2 - State 0 Max:\", max_EvapA_Var2_State0, \"\\n\")\n",
    "cat(\"EvapA_Var2 - State 1 Min:\", min_EvapA_Var2_State1, \"\\n\")\n",
    "cat(\"EvapA_Var2 - State 0 Min:\", min_EvapA_Var2_State0, \"\\n\")\n",
    "\n",
    "cat(\"EvapB_Var2 - State 1 Mean:\", avg_EvapB_Var2_State1, \"\\n\")\n",
    "cat(\"EvapB_Var2 - State 0 Mean:\", avg_EvapB_Var2_State0, \"\\n\")\n",
    "cat(\"EvapB_Var2 - State 1 Max:\", max_EvapB_Var2_State1, \"\\n\")\n",
    "cat(\"EvapB_Var2 - State 0 Max:\", max_EvapB_Var2_State0, \"\\n\")\n",
    "cat(\"EvapB_Var2 - State 1 Min:\", min_EvapB_Var2_State1, \"\\n\")\n",
    "cat(\"EvapB_Var2 - State 0 Min:\", min_EvapB_Var2_State0, \"\\n\")\n",
    "\n",
    "cat(\"EvapC_Var2 - State 1 Mean:\", avg_EvapC_Var2_State1, \"\\n\")\n",
    "cat(\"EvapC_Var2 - State 0 Mean:\", avg_EvapC_Var2_State0, \"\\n\")\n",
    "cat(\"EvapC_Var2 - State 1 Max:\", max_EvapC_Var2_State1, \"\\n\")\n",
    "cat(\"EvapC_Var2 - State 0 Max:\", max_EvapC_Var2_State0, \"\\n\")\n",
    "cat(\"EvapC_Var2 - State 1 Min:\", min_EvapC_Var2_State1, \"\\n\")\n",
    "cat(\"EvapC_Var2 - State 0 Min:\", min_EvapC_Var2_State0, \"\\n\")\n",
    "\n",
    "cat(\"Date_time_start\",Date_time_start, \"\\n\")\n",
    "cat(\"Date_time_end\",Date_time_end, \"\\n\")"
   ]
  },
  {
   "cell_type": "markdown",
   "metadata": {
    "application/vnd.databricks.v1+cell": {
     "cellMetadata": {
      "byteLimit": 2048000,
      "rowLimit": 10000
     },
     "inputWidgets": {},
     "nuid": "157ce7fd-a3ae-4e5e-ab1f-293060294dde",
     "showTitle": false,
     "tableResultSettingsMap": {},
     "title": ""
    }
   },
   "source": [
    "### Step 3. Save Statistic Data to Glod Table"
   ]
  },
  {
   "cell_type": "code",
   "execution_count": 0,
   "metadata": {
    "application/vnd.databricks.v1+cell": {
     "cellMetadata": {
      "byteLimit": 2048000,
      "rowLimit": 10000
     },
     "inputWidgets": {},
     "nuid": "2e1807ae-50e1-4087-b562-34dde72c0742",
     "showTitle": false,
     "tableResultSettingsMap": {},
     "title": ""
    }
   },
   "outputs": [],
   "source": [
    "%sql\n",
    "\n",
    "-- Creat table if not exists\n",
    "CREATE TABLE IF NOT EXISTS dev.gold.evap_statistics (\n",
    "    Date_time_start TIMESTAMP,\n",
    "    Date_time_end TIMESTAMP,\n",
    "    Evap_Type STRING,\n",
    "    Evap_Var1_State1_Mean DOUBLE,\n",
    "    Evap_Var1_State1_Max DOUBLE,\n",
    "    Evap_Var1_State1_Min DOUBLE,\n",
    "    Evap_Var1_State0_Mean DOUBLE,\n",
    "    Evap_Var1_State0_Max DOUBLE,   \n",
    "    Evap_Var1_State0_Min DOUBLE,\n",
    "    Evap_Var2_State1_Mean DOUBLE,\n",
    "    Evap_Var2_State1_Max DOUBLE,\n",
    "    Evap_Var2_State1_Min DOUBLE,\n",
    "    Evap_Var2_State0_Mean DOUBLE,\n",
    "    Evap_Var2_State0_Max DOUBLE,   \n",
    "    Evap_Var2_State0_Min DOUBLE\n",
    ");"
   ]
  },
  {
   "cell_type": "code",
   "execution_count": 0,
   "metadata": {
    "application/vnd.databricks.v1+cell": {
     "cellMetadata": {
      "byteLimit": 2048000,
      "rowLimit": 10000
     },
     "inputWidgets": {},
     "nuid": "82bf5e2a-499a-45d7-9b55-e95839c299a0",
     "showTitle": false,
     "tableResultSettingsMap": {},
     "title": ""
    }
   },
   "outputs": [],
   "source": [
    "evap_stats <- data.frame(\n",
    "  Date_time_start = min(pull(df_wide, Date_time)),\n",
    "  Date_time_end = max(pull(df_wide, Date_time)),\n",
    "  Evap_Type = c(\"A\", \"B\", \"C\"),\n",
    "  Evap_Var1_State1_Mean = c(avg_EvapA_Var1_State1, avg_EvapB_Var1_State1, avg_EvapC_Var1_State1),\n",
    "  Evap_Var1_State1_Max = c(max_EvapA_Var1_State1, max_EvapB_Var1_State1, max_EvapC_Var1_State1),\n",
    "  Evap_Var1_State1_Min = c(min_EvapA_Var1_State1, min_EvapB_Var1_State1, min_EvapC_Var1_State1),\n",
    "  Evap_Var1_State0_Mean = c(avg_EvapA_Var1_State0, avg_EvapB_Var1_State0, avg_EvapC_Var1_State0),\n",
    "  Evap_Var1_State0_Max = c(max_EvapA_Var1_State0, max_EvapB_Var1_State0, max_EvapC_Var1_State0),\n",
    "  Evap_Var1_State0_Min = c(min_EvapA_Var1_State0, min_EvapB_Var1_State0, min_EvapC_Var1_State0),\n",
    "  Evap_Var2_State1_Mean = c(avg_EvapA_Var2_State1, avg_EvapB_Var2_State1, avg_EvapC_Var2_State1),\n",
    "  Evap_Var2_State1_Max = c(max_EvapA_Var2_State1, max_EvapB_Var2_State1, max_EvapC_Var2_State1),\n",
    "  Evap_Var2_State1_Min = c(min_EvapA_Var2_State1, min_EvapB_Var2_State1, min_EvapC_Var2_State1),\n",
    "  Evap_Var2_State0_Mean = c(avg_EvapA_Var2_State0, avg_EvapB_Var2_State0, avg_EvapC_Var2_State0),\n",
    "  Evap_Var2_State0_Max = c(max_EvapA_Var2_State0, max_EvapB_Var2_State0, max_EvapC_Var2_State0),\n",
    "  Evap_Var2_State0_Min = c(min_EvapA_Var2_State0, min_EvapB_Var2_State0, min_EvapC_Var2_State0)\n",
    ")\n",
    "\n",
    "# Copying Dataframes to Spark\n",
    "evap_stats_tbl <- copy_to(sc, evap_stats, \"evap_stats\", overwrite = TRUE)\n",
    "\n",
    "# Insert data into the target table\n",
    "dbExecute(sc, \"\n",
    "  INSERT INTO dev.gold.evap_statistics\n",
    "  SELECT * FROM evap_stats\n",
    "\")"
   ]
  },
  {
   "cell_type": "code",
   "execution_count": 0,
   "metadata": {
    "application/vnd.databricks.v1+cell": {
     "cellMetadata": {
      "byteLimit": 2048000,
      "rowLimit": 10000
     },
     "inputWidgets": {},
     "nuid": "6373fa7a-52b6-4768-84a8-1488520f08fa",
     "showTitle": false,
     "tableResultSettingsMap": {},
     "title": ""
    }
   },
   "outputs": [],
   "source": [
    "%sql\n",
    "select * from dev.gold.evap_statistics"
   ]
  }
 ],
 "metadata": {
  "application/vnd.databricks.v1+notebook": {
   "computePreferences": null,
   "dashboards": [],
   "environmentMetadata": {
    "base_environment": "",
    "client": "2"
   },
   "language": "r",
   "notebookMetadata": {
    "pythonIndentUnit": 4
   },
   "notebookName": "3 Task_2 Solution",
   "widgets": {}
  },
  "language_info": {
   "name": "r"
  }
 },
 "nbformat": 4,
 "nbformat_minor": 0
}
