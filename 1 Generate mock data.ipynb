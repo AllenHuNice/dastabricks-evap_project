{
 "cells": [
  {
   "cell_type": "markdown",
   "metadata": {
    "application/vnd.databricks.v1+cell": {
     "cellMetadata": {},
     "inputWidgets": {},
     "nuid": "db2f1973-184a-4dd7-8980-bb15bccac5a2",
     "showTitle": false,
     "tableResultSettingsMap": {},
     "title": ""
    }
   },
   "source": [
    "## 1 Generate mock data\n",
    "\n",
    "We can specify the data time or use the current time\n",
    "\n",
    "All the data will generate at *'/Volumes/dev/bronze/raw_data/files/2025-02-01.csv'*"
   ]
  },
  {
   "cell_type": "code",
   "execution_count": 0,
   "metadata": {
    "application/vnd.databricks.v1+cell": {
     "cellMetadata": {
      "byteLimit": 2048000,
      "rowLimit": 10000
     },
     "inputWidgets": {},
     "nuid": "da41d72e-8950-4fdd-b1a6-e040383c6737",
     "showTitle": false,
     "tableResultSettingsMap": {},
     "title": ""
    }
   },
   "outputs": [],
   "source": [
    "# import library\n",
    "library(lubridate)\n",
    "library(readr)\n",
    "library(fs)\n",
    "library(dplyr)"
   ]
  },
  {
   "cell_type": "code",
   "execution_count": 0,
   "metadata": {
    "application/vnd.databricks.v1+cell": {
     "cellMetadata": {
      "byteLimit": 2048000,
      "rowLimit": 10000
     },
     "inputWidgets": {},
     "nuid": "6b750c9d-4c67-461c-a6c6-8165e8d2ade0",
     "showTitle": false,
     "tableResultSettingsMap": {},
     "title": ""
    }
   },
   "outputs": [],
   "source": [
    "# generate a widgets to get date，defaut day is yesterday\n",
    "\n",
    "dbutils.widgets.text(\"Date\", format(Sys.Date()-1, \"%Y-%m-%d\"), \"Date of generation\")"
   ]
  },
  {
   "cell_type": "code",
   "execution_count": 0,
   "metadata": {
    "application/vnd.databricks.v1+cell": {
     "cellMetadata": {
      "byteLimit": 2048000,
      "rowLimit": 10000
     },
     "inputWidgets": {},
     "nuid": "56623bf6-35d0-47a4-b9c0-77047ad6a921",
     "showTitle": false,
     "tableResultSettingsMap": {},
     "title": ""
    }
   },
   "outputs": [],
   "source": [
    "# get input_date\n",
    "\n",
    "input_date <- dbutils.widgets.get(\"Date\")\n",
    "\n",
    "print(input_date)"
   ]
  },
  {
   "cell_type": "code",
   "execution_count": 0,
   "metadata": {
    "application/vnd.databricks.v1+cell": {
     "cellMetadata": {
      "byteLimit": 2048000,
      "rowLimit": 10000
     },
     "inputWidgets": {},
     "nuid": "02ef391f-78f2-439e-a315-d7a4a840ec9b",
     "showTitle": false,
     "tableResultSettingsMap": {},
     "title": ""
    }
   },
   "outputs": [],
   "source": [
    "# check the input date\n",
    "\n",
    "if (!grepl(\"^\\\\d{4}-\\\\d{2}-\\\\d{2}$\", input_date)) {\n",
    "  stop(\"Invalid date format! Please enter the date as YYYY-MM-DD\")\n",
    "}"
   ]
  },
  {
   "cell_type": "code",
   "execution_count": 0,
   "metadata": {
    "application/vnd.databricks.v1+cell": {
     "cellMetadata": {
      "byteLimit": 2048000,
      "rowLimit": 10000
     },
     "inputWidgets": {},
     "nuid": "d2d08d6b-64e5-4732-a1f3-e2284e5b9d47",
     "showTitle": false,
     "tableResultSettingsMap": {},
     "title": ""
    }
   },
   "outputs": [],
   "source": [
    "# make sure the same day will have the same data\n",
    "\n",
    "seed_day=as.numeric(format(as.Date(input_date), \"%d\"))\n",
    "print(seed_day)"
   ]
  },
  {
   "cell_type": "code",
   "execution_count": 0,
   "metadata": {
    "application/vnd.databricks.v1+cell": {
     "cellMetadata": {},
     "inputWidgets": {},
     "nuid": "d42b1fce-c782-425f-835a-79ff7eeda664",
     "showTitle": false,
     "tableResultSettingsMap": {},
     "title": ""
    }
   },
   "outputs": [],
   "source": [
    "%sql\n",
    "\n",
    "-- create brown layer\n",
    "\n",
    "CREATE SCHEMA IF NOT EXISTS dev.silver;"
   ]
  },
  {
   "cell_type": "code",
   "execution_count": 0,
   "metadata": {
    "application/vnd.databricks.v1+cell": {
     "cellMetadata": {
      "byteLimit": 2048000,
      "rowLimit": 10000
     },
     "inputWidgets": {},
     "nuid": "e39657b1-6b0c-4158-89cc-7c9ca68a6611",
     "showTitle": false,
     "tableResultSettingsMap": {},
     "title": ""
    }
   },
   "outputs": [],
   "source": [
    "# generate the file path\n",
    "\n",
    "dir_path <- \"/Volumes/dev/bronze/raw_data/files/\"\n",
    "csv_path <- paste0(dir_path, input_date, \".csv\")"
   ]
  },
  {
   "cell_type": "code",
   "execution_count": 0,
   "metadata": {
    "application/vnd.databricks.v1+cell": {
     "cellMetadata": {
      "byteLimit": 2048000,
      "rowLimit": 10000
     },
     "inputWidgets": {},
     "nuid": "cf821d4f-5d1e-4300-98a3-8c9770889cc6",
     "showTitle": false,
     "tableResultSettingsMap": {},
     "title": ""
    }
   },
   "outputs": [],
   "source": [
    "%sql\n",
    "create volume if not exists dev.bronze.raw_data\n",
    "comment 'This is the RAW data Volume'"
   ]
  },
  {
   "cell_type": "code",
   "execution_count": 0,
   "metadata": {
    "application/vnd.databricks.v1+cell": {
     "cellMetadata": {
      "byteLimit": 2048000,
      "rowLimit": 10000
     },
     "inputWidgets": {},
     "nuid": "fcf8d684-eda2-44e9-bf78-e495842fc576",
     "showTitle": false,
     "tableResultSettingsMap": {},
     "title": ""
    }
   },
   "outputs": [],
   "source": [
    "# generate the file path\n",
    "if (!dir.exists(dir_path)) {\n",
    "  dbutils.fs.mkdirs(dir_path)\n",
    "}"
   ]
  },
  {
   "cell_type": "code",
   "execution_count": 0,
   "metadata": {
    "application/vnd.databricks.v1+cell": {
     "cellMetadata": {
      "byteLimit": 2048000,
      "rowLimit": 10000
     },
     "inputWidgets": {},
     "nuid": "0876c311-05b9-4563-9a5d-c595030f8c14",
     "showTitle": false,
     "tableResultSettingsMap": {},
     "title": ""
    }
   },
   "outputs": [],
   "source": [
    "# 1. Date_time Column generate\n",
    "\n",
    "start_time <- as.POSIXct(paste(input_date, \"09:00:00\"), format=\"%Y-%m-%d %H:%M:%S\", tz=\"UTC\")\n",
    "end_time <- as.POSIXct(paste(input_date, \"17:00:00\"), format=\"%Y-%m-%d %H:%M:%S\", tz=\"UTC\")\n",
    "\n",
    "Date_time <- seq(from = start_time, to = end_time, by = \"30 sec\")\n",
    "Date_time <- format(Date_time, \"%Y-%m-%dT%H:%M:%S\")\n",
    "\n",
    "df <- data.frame(Date_time)\n",
    "write_csv(df, csv_path)\n",
    "\n",
    "head(df)"
   ]
  },
  {
   "cell_type": "code",
   "execution_count": 0,
   "metadata": {
    "application/vnd.databricks.v1+cell": {
     "cellMetadata": {
      "byteLimit": 2048000,
      "rowLimit": 10000
     },
     "inputWidgets": {},
     "nuid": "16da40f4-fe6f-47dc-8656-bfe604b829d2",
     "showTitle": false,
     "tableResultSettingsMap": {},
     "title": ""
    }
   },
   "outputs": [],
   "source": [
    "num_rows <- nrow(df)"
   ]
  },
  {
   "cell_type": "code",
   "execution_count": 0,
   "metadata": {
    "application/vnd.databricks.v1+cell": {
     "cellMetadata": {
      "byteLimit": 2048000,
      "rowLimit": 10000
     },
     "inputWidgets": {},
     "nuid": "a93e13d6-cba9-432b-8715-9a471cb3cbee",
     "showTitle": false,
     "tableResultSettingsMap": {},
     "title": ""
    }
   },
   "outputs": [],
   "source": [
    "# 2. A-1 column\n",
    "\n",
    "set.seed(100+seed_day)\n",
    "generate_values <- function(n) {\n",
    "  values <- c()\n",
    "  for (i in 1:n) {\n",
    "    if ((i - 1) %/% 3 %% 3 == 1) { \n",
    "      base <- 1000\n",
    "    } else { \n",
    "      base <- 1300\n",
    "    }\n",
    "    values <- c(values, base + sample(-10:10, 1))  \n",
    "  }\n",
    "  return(values)\n",
    "}\n",
    "\n",
    "df$EvapA_Var1 <- generate_values(num_rows) \n",
    "\n",
    "write_csv(df, csv_path)\n",
    "\n",
    "head(df)"
   ]
  },
  {
   "cell_type": "code",
   "execution_count": 0,
   "metadata": {
    "application/vnd.databricks.v1+cell": {
     "cellMetadata": {
      "byteLimit": 2048000,
      "rowLimit": 10000
     },
     "inputWidgets": {},
     "nuid": "3d1b9f8c-c9db-4ab7-9225-4be9f27d089d",
     "showTitle": false,
     "tableResultSettingsMap": {},
     "title": ""
    }
   },
   "outputs": [],
   "source": [
    "# 3. A-2 column\n",
    "\n",
    "set.seed(101+seed_day)\n",
    "generate_values <- function(n) {\n",
    "  values <- c()\n",
    "  for (i in 1:n) {\n",
    "    if ((i - 1) %/% 3 %% 3 == 1) {  \n",
    "      base <- 60\n",
    "    } else {  \n",
    "      base <- 85\n",
    "    }\n",
    "    values <- c(values, round(base + runif(1,-2, 2),1))  \n",
    "  }\n",
    "  return(values)\n",
    "}\n",
    "\n",
    "df$EvapA_Var2 <- generate_values(num_rows)\n",
    "\n",
    "write_csv(df, csv_path)\n",
    "\n",
    "head(df)"
   ]
  },
  {
   "cell_type": "code",
   "execution_count": 0,
   "metadata": {
    "application/vnd.databricks.v1+cell": {
     "cellMetadata": {
      "byteLimit": 2048000,
      "rowLimit": 10000
     },
     "inputWidgets": {},
     "nuid": "db92ede3-0b57-493e-9f98-cfe751c04ac7",
     "showTitle": false,
     "tableResultSettingsMap": {},
     "title": ""
    }
   },
   "outputs": [],
   "source": [
    "# 4. A-S column\n",
    "\n",
    "generate_values <- function(n) {\n",
    "  values <- c()\n",
    "  for (i in 1:n) {\n",
    "    if ((i - 1) %/% 3 %% 3 == 1) {  \n",
    "      base <- 0\n",
    "    } else {  \n",
    "      base <- 1\n",
    "    }\n",
    "    values <- c(values, base)  \n",
    "  }\n",
    "  return(values)\n",
    "}\n",
    "\n",
    "df$EvapA_State <- generate_values(num_rows)  \n",
    "\n",
    "write_csv(df, csv_path)\n",
    "\n",
    "head(df)"
   ]
  },
  {
   "cell_type": "code",
   "execution_count": 0,
   "metadata": {
    "application/vnd.databricks.v1+cell": {
     "cellMetadata": {
      "byteLimit": 2048000,
      "rowLimit": 10000
     },
     "inputWidgets": {},
     "nuid": "fb63133f-d74a-4d11-9250-bae1468b734d",
     "showTitle": false,
     "tableResultSettingsMap": {},
     "title": ""
    }
   },
   "outputs": [],
   "source": [
    "# 5. B-1\n",
    "set.seed(200+seed_day)  \n",
    "generate_values <- function(n) {\n",
    "  values <- c()\n",
    "  for (i in 1:n) {\n",
    "    if ((i - 1) %/% 3 %% 3 == 0) {  \n",
    "      base <- 1000\n",
    "    } else {  \n",
    "      base <- 1300\n",
    "    }\n",
    "    values <- c(values, base + sample(-10:10, 1))  \n",
    "  }\n",
    "  return(values)\n",
    "}\n",
    "\n",
    "df$EvapB_Var1 <- generate_values(num_rows)  \n",
    "\n",
    "write_csv(df, csv_path)\n",
    "\n",
    "head(df)"
   ]
  },
  {
   "cell_type": "code",
   "execution_count": 0,
   "metadata": {
    "application/vnd.databricks.v1+cell": {
     "cellMetadata": {
      "byteLimit": 2048000,
      "rowLimit": 10000
     },
     "inputWidgets": {},
     "nuid": "9ae27ae5-ebf7-414e-a57c-82c0477e05f9",
     "showTitle": false,
     "tableResultSettingsMap": {},
     "title": ""
    }
   },
   "outputs": [],
   "source": [
    "# 6. B-2 column\n",
    "\n",
    "set.seed(201+seed_day)\n",
    "generate_values <- function(n) {\n",
    "  values <- c()\n",
    "  for (i in 1:n) {\n",
    "    if ((i - 1) %/% 3 %% 3 == 0) {  # 85 +- 1\n",
    "      base <- 60\n",
    "    } else {  \n",
    "      base <- 85\n",
    "    }\n",
    "    values <- c(values, round(base + runif(1,-2, 2),1))  \n",
    "  }\n",
    "  return(values)\n",
    "}\n",
    "\n",
    "df$EvapB_Var2 <- generate_values(num_rows)  \n",
    "\n",
    "write_csv(df, csv_path)\n",
    "\n",
    "head(df)"
   ]
  },
  {
   "cell_type": "code",
   "execution_count": 0,
   "metadata": {
    "application/vnd.databricks.v1+cell": {
     "cellMetadata": {
      "byteLimit": 2048000,
      "rowLimit": 10000
     },
     "inputWidgets": {},
     "nuid": "ef6eace6-7c99-425b-9e50-d151d99ebd15",
     "showTitle": false,
     "tableResultSettingsMap": {},
     "title": ""
    }
   },
   "outputs": [],
   "source": [
    "# 7. B-S column\n",
    "\n",
    "generate_values <- function(n) {\n",
    "  values <- c()\n",
    "  for (i in 1:n) {\n",
    "    if ((i - 1) %/% 3 %% 3 == 0) {  \n",
    "      base <- 0\n",
    "    } else {  \n",
    "      base <- 1\n",
    "    }\n",
    "    values <- c(values, base)  \n",
    "  }\n",
    "  return(values)\n",
    "}\n",
    "\n",
    "df$EvapB_State <- generate_values(num_rows)  \n",
    "\n",
    "write_csv(df, csv_path)\n",
    "\n",
    "head(df)"
   ]
  },
  {
   "cell_type": "code",
   "execution_count": 0,
   "metadata": {
    "application/vnd.databricks.v1+cell": {
     "cellMetadata": {
      "byteLimit": 2048000,
      "rowLimit": 10000
     },
     "inputWidgets": {},
     "nuid": "5784edf3-5b62-4200-80a6-67bccf25bc72",
     "showTitle": false,
     "tableResultSettingsMap": {},
     "title": ""
    }
   },
   "outputs": [],
   "source": [
    "# 8. C-1\n",
    "set.seed(300+seed_day)  \n",
    "generate_values <- function(n) {\n",
    "  values <- c()\n",
    "  for (i in 1:n) {\n",
    "    if ((i - 1) %/% 3 %% 3 == 2) {  \n",
    "      base <- 1000\n",
    "    } else {  \n",
    "      base <- 1300\n",
    "    }\n",
    "    values <- c(values, base + sample(-10:10, 1))  \n",
    "  }\n",
    "  return(values)\n",
    "}\n",
    "\n",
    "df$EvapC_Var1 <- generate_values(num_rows)  \n",
    "\n",
    "write_csv(df, csv_path)\n",
    "\n",
    "head(df)"
   ]
  },
  {
   "cell_type": "code",
   "execution_count": 0,
   "metadata": {
    "application/vnd.databricks.v1+cell": {
     "cellMetadata": {
      "byteLimit": 2048000,
      "rowLimit": 10000
     },
     "inputWidgets": {},
     "nuid": "5c185462-155a-44bc-a80e-65d5af39d406",
     "showTitle": false,
     "tableResultSettingsMap": {},
     "title": ""
    }
   },
   "outputs": [],
   "source": [
    "# 9. C-2 column\n",
    "\n",
    "set.seed(301+seed_day)\n",
    "generate_values <- function(n) {\n",
    "  values <- c()\n",
    "  for (i in 1:n) {\n",
    "    if ((i - 1) %/% 3 %% 3 == 2) {  # 85 +- 1\n",
    "      base <- 60\n",
    "    } else {  \n",
    "      base <- 85\n",
    "    }\n",
    "    values <- c(values, round(base + runif(1,-2, 2),1))  \n",
    "  }\n",
    "  return(values)\n",
    "}\n",
    "\n",
    "df$EvapC_Var2 <- generate_values(num_rows)  \n",
    "\n",
    "write_csv(df, csv_path)\n",
    "\n",
    "head(df)"
   ]
  },
  {
   "cell_type": "code",
   "execution_count": 0,
   "metadata": {
    "application/vnd.databricks.v1+cell": {
     "cellMetadata": {
      "byteLimit": 2048000,
      "rowLimit": 10000
     },
     "inputWidgets": {},
     "nuid": "bc94da1f-74db-4ca9-899e-3c1eeefcfe6f",
     "showTitle": false,
     "tableResultSettingsMap": {},
     "title": ""
    }
   },
   "outputs": [],
   "source": [
    "# 10. C-S column\n",
    "\n",
    "generate_values <- function(n) {\n",
    "  values <- c()\n",
    "  for (i in 1:n) {\n",
    "    if ((i - 1) %/% 3 %% 3 == 2) {  \n",
    "      base <- 0\n",
    "    } else {  \n",
    "      base <- 1\n",
    "    }\n",
    "    values <- c(values, base)  \n",
    "  }\n",
    "  return(values)\n",
    "}\n",
    "\n",
    "df$EvapC_State <- generate_values(num_rows)  \n",
    "\n",
    "write_csv(df, csv_path)\n",
    "\n",
    "head(df)"
   ]
  },
  {
   "cell_type": "code",
   "execution_count": 0,
   "metadata": {
    "application/vnd.databricks.v1+cell": {
     "cellMetadata": {
      "byteLimit": 2048000,
      "rowLimit": 10000
     },
     "inputWidgets": {},
     "nuid": "88aed4e7-44ea-4b82-be61-90cc2a2a2aec",
     "showTitle": false,
     "tableResultSettingsMap": {},
     "title": ""
    }
   },
   "outputs": [],
   "source": [
    "dbutils.notebook.exit(num_rows)"
   ]
  }
 ],
 "metadata": {
  "application/vnd.databricks.v1+notebook": {
   "computePreferences": null,
   "dashboards": [],
   "environmentMetadata": {
    "base_environment": "",
    "client": "2"
   },
   "language": "r",
   "notebookMetadata": {
    "pythonIndentUnit": 4
   },
   "notebookName": "1 Generate mock data",
   "widgets": {
    "Date": {
     "currentValue": "2025-02-01",
     "nuid": "42e72398-c4a2-46bb-a823-51e41ff36623",
     "typedWidgetInfo": {
      "autoCreated": false,
      "defaultValue": "2025-02-01",
      "label": "Date of generation",
      "name": "Date",
      "options": {
       "widgetDisplayType": "Text",
       "validationRegex": null
      },
      "parameterDataType": "String"
     },
     "widgetInfo": {
      "widgetType": "text",
      "defaultValue": "2025-02-01",
      "label": "Date of generation",
      "name": "Date",
      "options": {
       "widgetType": "text",
       "autoCreated": null,
       "validationRegex": null
      }
     }
    }
   }
  },
  "language_info": {
   "name": "r"
  }
 },
 "nbformat": 4,
 "nbformat_minor": 0
}
